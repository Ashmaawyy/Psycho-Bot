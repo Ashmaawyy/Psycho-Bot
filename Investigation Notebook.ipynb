{
 "cells": [
  {
   "cell_type": "markdown",
   "source": [
    "# Project: Investigating Twitter Dataset\r\n",
    "\r\n",
    "## Table of Contents\r\n",
    "<ul>\r\n",
    "<li><a href=\"#intro\">Introduction</a></li>\r\n",
    "<li><a href=\"#wrangling\">Data Wrangling</a></li>\r\n",
    "<li><a href=\"#eda\">Exploratory Data Analysis</a></li>\r\n",
    "</ul>"
   ],
   "metadata": {}
  },
  {
   "cell_type": "markdown",
   "source": [
    "<a id='intro'></a>\r\n",
    "## Introduction\r\n",
    "### This Notebook will be used to explore the training dataset (The one provided in the pdf) for twitter data to clean and pre-proccess it :)"
   ],
   "metadata": {}
  },
  {
   "cell_type": "code",
   "execution_count": 1,
   "source": [
    "import pandas as pd\r\n",
    "import numpy as np\r\n",
    "import re\r\n",
    "import matplotlib.pyplot as plt\r\n",
    "import csv\r\n",
    "from vaderSentiment.vaderSentiment import SentimentIntensityAnalyzer\r\n",
    "#import statsmodels as sm\r\n",
    "#%pip install tweepy\r\n",
    "import tweepy\r\n"
   ],
   "outputs": [],
   "metadata": {
    "collapsed": true
   }
  },
  {
   "cell_type": "markdown",
   "source": [
    "<a id='wrangling'></a>\r\n",
    "## Data Wrangling\r\n",
    "\r\n",
    "### General Properties"
   ],
   "metadata": {}
  },
  {
   "cell_type": "code",
   "execution_count": 2,
   "source": [
    "tweets = pd.read_csv('Training.csv')\r\n",
    "tweets.info()\r\n"
   ],
   "outputs": [
    {
     "output_type": "stream",
     "name": "stdout",
     "text": [
      "<class 'pandas.core.frame.DataFrame'>\n",
      "RangeIndex: 1599999 entries, 0 to 1599998\n",
      "Data columns (total 6 columns):\n",
      " #   Column                                                                                                               Non-Null Count    Dtype \n",
      "---  ------                                                                                                               --------------    ----- \n",
      " 0   0                                                                                                                    1599999 non-null  int64 \n",
      " 1   1467810369                                                                                                           1599999 non-null  int64 \n",
      " 2   Mon Apr 06 22:19:45 PDT 2009                                                                                         1599999 non-null  object\n",
      " 3   NO_QUERY                                                                                                             1599999 non-null  object\n",
      " 4   _TheSpecialOne_                                                                                                      1599999 non-null  object\n",
      " 5   @switchfoot http://twitpic.com/2y1zl - Awww, that's a bummer.  You shoulda got David Carr of Third Day to do it. ;D  1599999 non-null  object\n",
      "dtypes: int64(2), object(4)\n",
      "memory usage: 48.8+ MB\n"
     ]
    }
   ],
   "metadata": {
    "collapsed": true
   }
  },
  {
   "cell_type": "markdown",
   "source": [
    "### We can replace the first row with more relatable column names :)"
   ],
   "metadata": {}
  },
  {
   "cell_type": "code",
   "execution_count": 3,
   "source": [
    "tweets.columns = ['Polarity', 'Tweet_ID', 'Date', 'Query', 'User_name', 'Tweet']\r\n",
    "tweets.info()"
   ],
   "outputs": [
    {
     "output_type": "stream",
     "name": "stdout",
     "text": [
      "<class 'pandas.core.frame.DataFrame'>\n",
      "RangeIndex: 1599999 entries, 0 to 1599998\n",
      "Data columns (total 6 columns):\n",
      " #   Column     Non-Null Count    Dtype \n",
      "---  ------     --------------    ----- \n",
      " 0   Polarity   1599999 non-null  int64 \n",
      " 1   Tweet_ID   1599999 non-null  int64 \n",
      " 2   Date       1599999 non-null  object\n",
      " 3   Query      1599999 non-null  object\n",
      " 4   User_name  1599999 non-null  object\n",
      " 5   Tweet      1599999 non-null  object\n",
      "dtypes: int64(2), object(4)\n",
      "memory usage: 48.8+ MB\n"
     ]
    }
   ],
   "metadata": {}
  },
  {
   "cell_type": "code",
   "execution_count": 4,
   "source": [
    "tweets.head(10)"
   ],
   "outputs": [
    {
     "output_type": "execute_result",
     "data": {
      "text/html": [
       "<div>\n",
       "<style scoped>\n",
       "    .dataframe tbody tr th:only-of-type {\n",
       "        vertical-align: middle;\n",
       "    }\n",
       "\n",
       "    .dataframe tbody tr th {\n",
       "        vertical-align: top;\n",
       "    }\n",
       "\n",
       "    .dataframe thead th {\n",
       "        text-align: right;\n",
       "    }\n",
       "</style>\n",
       "<table border=\"1\" class=\"dataframe\">\n",
       "  <thead>\n",
       "    <tr style=\"text-align: right;\">\n",
       "      <th></th>\n",
       "      <th>Polarity</th>\n",
       "      <th>Tweet_ID</th>\n",
       "      <th>Date</th>\n",
       "      <th>Query</th>\n",
       "      <th>User_name</th>\n",
       "      <th>Tweet</th>\n",
       "    </tr>\n",
       "  </thead>\n",
       "  <tbody>\n",
       "    <tr>\n",
       "      <th>0</th>\n",
       "      <td>0</td>\n",
       "      <td>1467810672</td>\n",
       "      <td>Mon Apr 06 22:19:49 PDT 2009</td>\n",
       "      <td>NO_QUERY</td>\n",
       "      <td>scotthamilton</td>\n",
       "      <td>is upset that he can't update his Facebook by ...</td>\n",
       "    </tr>\n",
       "    <tr>\n",
       "      <th>1</th>\n",
       "      <td>0</td>\n",
       "      <td>1467810917</td>\n",
       "      <td>Mon Apr 06 22:19:53 PDT 2009</td>\n",
       "      <td>NO_QUERY</td>\n",
       "      <td>mattycus</td>\n",
       "      <td>@Kenichan I dived many times for the ball. Man...</td>\n",
       "    </tr>\n",
       "    <tr>\n",
       "      <th>2</th>\n",
       "      <td>0</td>\n",
       "      <td>1467811184</td>\n",
       "      <td>Mon Apr 06 22:19:57 PDT 2009</td>\n",
       "      <td>NO_QUERY</td>\n",
       "      <td>ElleCTF</td>\n",
       "      <td>my whole body feels itchy and like its on fire</td>\n",
       "    </tr>\n",
       "    <tr>\n",
       "      <th>3</th>\n",
       "      <td>0</td>\n",
       "      <td>1467811193</td>\n",
       "      <td>Mon Apr 06 22:19:57 PDT 2009</td>\n",
       "      <td>NO_QUERY</td>\n",
       "      <td>Karoli</td>\n",
       "      <td>@nationwideclass no, it's not behaving at all....</td>\n",
       "    </tr>\n",
       "    <tr>\n",
       "      <th>4</th>\n",
       "      <td>0</td>\n",
       "      <td>1467811372</td>\n",
       "      <td>Mon Apr 06 22:20:00 PDT 2009</td>\n",
       "      <td>NO_QUERY</td>\n",
       "      <td>joy_wolf</td>\n",
       "      <td>@Kwesidei not the whole crew</td>\n",
       "    </tr>\n",
       "    <tr>\n",
       "      <th>5</th>\n",
       "      <td>0</td>\n",
       "      <td>1467811592</td>\n",
       "      <td>Mon Apr 06 22:20:03 PDT 2009</td>\n",
       "      <td>NO_QUERY</td>\n",
       "      <td>mybirch</td>\n",
       "      <td>Need a hug</td>\n",
       "    </tr>\n",
       "    <tr>\n",
       "      <th>6</th>\n",
       "      <td>0</td>\n",
       "      <td>1467811594</td>\n",
       "      <td>Mon Apr 06 22:20:03 PDT 2009</td>\n",
       "      <td>NO_QUERY</td>\n",
       "      <td>coZZ</td>\n",
       "      <td>@LOLTrish hey  long time no see! Yes.. Rains a...</td>\n",
       "    </tr>\n",
       "    <tr>\n",
       "      <th>7</th>\n",
       "      <td>0</td>\n",
       "      <td>1467811795</td>\n",
       "      <td>Mon Apr 06 22:20:05 PDT 2009</td>\n",
       "      <td>NO_QUERY</td>\n",
       "      <td>2Hood4Hollywood</td>\n",
       "      <td>@Tatiana_K nope they didn't have it</td>\n",
       "    </tr>\n",
       "    <tr>\n",
       "      <th>8</th>\n",
       "      <td>0</td>\n",
       "      <td>1467812025</td>\n",
       "      <td>Mon Apr 06 22:20:09 PDT 2009</td>\n",
       "      <td>NO_QUERY</td>\n",
       "      <td>mimismo</td>\n",
       "      <td>@twittera que me muera ?</td>\n",
       "    </tr>\n",
       "    <tr>\n",
       "      <th>9</th>\n",
       "      <td>0</td>\n",
       "      <td>1467812416</td>\n",
       "      <td>Mon Apr 06 22:20:16 PDT 2009</td>\n",
       "      <td>NO_QUERY</td>\n",
       "      <td>erinx3leannexo</td>\n",
       "      <td>spring break in plain city... it's snowing</td>\n",
       "    </tr>\n",
       "  </tbody>\n",
       "</table>\n",
       "</div>"
      ],
      "text/plain": [
       "   Polarity    Tweet_ID                          Date     Query  \\\n",
       "0         0  1467810672  Mon Apr 06 22:19:49 PDT 2009  NO_QUERY   \n",
       "1         0  1467810917  Mon Apr 06 22:19:53 PDT 2009  NO_QUERY   \n",
       "2         0  1467811184  Mon Apr 06 22:19:57 PDT 2009  NO_QUERY   \n",
       "3         0  1467811193  Mon Apr 06 22:19:57 PDT 2009  NO_QUERY   \n",
       "4         0  1467811372  Mon Apr 06 22:20:00 PDT 2009  NO_QUERY   \n",
       "5         0  1467811592  Mon Apr 06 22:20:03 PDT 2009  NO_QUERY   \n",
       "6         0  1467811594  Mon Apr 06 22:20:03 PDT 2009  NO_QUERY   \n",
       "7         0  1467811795  Mon Apr 06 22:20:05 PDT 2009  NO_QUERY   \n",
       "8         0  1467812025  Mon Apr 06 22:20:09 PDT 2009  NO_QUERY   \n",
       "9         0  1467812416  Mon Apr 06 22:20:16 PDT 2009  NO_QUERY   \n",
       "\n",
       "         User_name                                              Tweet  \n",
       "0    scotthamilton  is upset that he can't update his Facebook by ...  \n",
       "1         mattycus  @Kenichan I dived many times for the ball. Man...  \n",
       "2          ElleCTF    my whole body feels itchy and like its on fire   \n",
       "3           Karoli  @nationwideclass no, it's not behaving at all....  \n",
       "4         joy_wolf                      @Kwesidei not the whole crew   \n",
       "5          mybirch                                        Need a hug   \n",
       "6             coZZ  @LOLTrish hey  long time no see! Yes.. Rains a...  \n",
       "7  2Hood4Hollywood               @Tatiana_K nope they didn't have it   \n",
       "8          mimismo                          @twittera que me muera ?   \n",
       "9   erinx3leannexo        spring break in plain city... it's snowing   "
      ]
     },
     "metadata": {},
     "execution_count": 4
    }
   ],
   "metadata": {}
  },
  {
   "cell_type": "markdown",
   "source": [
    "## Data Cleaning"
   ],
   "metadata": {}
  },
  {
   "cell_type": "code",
   "execution_count": 5,
   "source": [
    "def cleantweets(tweet_text):\r\n",
    "    tweet_text = re.sub(r'@[A-Za-z0-9]+', '', tweet_text) # For Removing @ Mentions\r\n",
    "    tweet_text = re.sub(r'#', '', tweet_text) # For Removing Hashtags\r\n",
    "    tweet_text = re.sub(r'RT[\\s]+', '', tweet_text) # For Removing Retweets\r\n",
    "    tweet_text = re.sub(r'https?:\\/\\/\\S+', '', tweet_text) # For Removing Hyperlinks\r\n",
    "    return tweet_text\r\n",
    "\r\n",
    "tweets['Tweet'] = tweets['Tweet'].apply(cleantweets)\r\n",
    "tweets.head(10)\r\n"
   ],
   "outputs": [
    {
     "output_type": "execute_result",
     "data": {
      "text/html": [
       "<div>\n",
       "<style scoped>\n",
       "    .dataframe tbody tr th:only-of-type {\n",
       "        vertical-align: middle;\n",
       "    }\n",
       "\n",
       "    .dataframe tbody tr th {\n",
       "        vertical-align: top;\n",
       "    }\n",
       "\n",
       "    .dataframe thead th {\n",
       "        text-align: right;\n",
       "    }\n",
       "</style>\n",
       "<table border=\"1\" class=\"dataframe\">\n",
       "  <thead>\n",
       "    <tr style=\"text-align: right;\">\n",
       "      <th></th>\n",
       "      <th>Polarity</th>\n",
       "      <th>Tweet_ID</th>\n",
       "      <th>Date</th>\n",
       "      <th>Query</th>\n",
       "      <th>User_name</th>\n",
       "      <th>Tweet</th>\n",
       "    </tr>\n",
       "  </thead>\n",
       "  <tbody>\n",
       "    <tr>\n",
       "      <th>0</th>\n",
       "      <td>0</td>\n",
       "      <td>1467810672</td>\n",
       "      <td>Mon Apr 06 22:19:49 PDT 2009</td>\n",
       "      <td>NO_QUERY</td>\n",
       "      <td>scotthamilton</td>\n",
       "      <td>is upset that he can't update his Facebook by ...</td>\n",
       "    </tr>\n",
       "    <tr>\n",
       "      <th>1</th>\n",
       "      <td>0</td>\n",
       "      <td>1467810917</td>\n",
       "      <td>Mon Apr 06 22:19:53 PDT 2009</td>\n",
       "      <td>NO_QUERY</td>\n",
       "      <td>mattycus</td>\n",
       "      <td>I dived many times for the ball. Managed to s...</td>\n",
       "    </tr>\n",
       "    <tr>\n",
       "      <th>2</th>\n",
       "      <td>0</td>\n",
       "      <td>1467811184</td>\n",
       "      <td>Mon Apr 06 22:19:57 PDT 2009</td>\n",
       "      <td>NO_QUERY</td>\n",
       "      <td>ElleCTF</td>\n",
       "      <td>my whole body feels itchy and like its on fire</td>\n",
       "    </tr>\n",
       "    <tr>\n",
       "      <th>3</th>\n",
       "      <td>0</td>\n",
       "      <td>1467811193</td>\n",
       "      <td>Mon Apr 06 22:19:57 PDT 2009</td>\n",
       "      <td>NO_QUERY</td>\n",
       "      <td>Karoli</td>\n",
       "      <td>no, it's not behaving at all. i'm mad. why am...</td>\n",
       "    </tr>\n",
       "    <tr>\n",
       "      <th>4</th>\n",
       "      <td>0</td>\n",
       "      <td>1467811372</td>\n",
       "      <td>Mon Apr 06 22:20:00 PDT 2009</td>\n",
       "      <td>NO_QUERY</td>\n",
       "      <td>joy_wolf</td>\n",
       "      <td>not the whole crew</td>\n",
       "    </tr>\n",
       "    <tr>\n",
       "      <th>5</th>\n",
       "      <td>0</td>\n",
       "      <td>1467811592</td>\n",
       "      <td>Mon Apr 06 22:20:03 PDT 2009</td>\n",
       "      <td>NO_QUERY</td>\n",
       "      <td>mybirch</td>\n",
       "      <td>Need a hug</td>\n",
       "    </tr>\n",
       "    <tr>\n",
       "      <th>6</th>\n",
       "      <td>0</td>\n",
       "      <td>1467811594</td>\n",
       "      <td>Mon Apr 06 22:20:03 PDT 2009</td>\n",
       "      <td>NO_QUERY</td>\n",
       "      <td>coZZ</td>\n",
       "      <td>hey  long time no see! Yes.. Rains a bit ,onl...</td>\n",
       "    </tr>\n",
       "    <tr>\n",
       "      <th>7</th>\n",
       "      <td>0</td>\n",
       "      <td>1467811795</td>\n",
       "      <td>Mon Apr 06 22:20:05 PDT 2009</td>\n",
       "      <td>NO_QUERY</td>\n",
       "      <td>2Hood4Hollywood</td>\n",
       "      <td>_K nope they didn't have it</td>\n",
       "    </tr>\n",
       "    <tr>\n",
       "      <th>8</th>\n",
       "      <td>0</td>\n",
       "      <td>1467812025</td>\n",
       "      <td>Mon Apr 06 22:20:09 PDT 2009</td>\n",
       "      <td>NO_QUERY</td>\n",
       "      <td>mimismo</td>\n",
       "      <td>que me muera ?</td>\n",
       "    </tr>\n",
       "    <tr>\n",
       "      <th>9</th>\n",
       "      <td>0</td>\n",
       "      <td>1467812416</td>\n",
       "      <td>Mon Apr 06 22:20:16 PDT 2009</td>\n",
       "      <td>NO_QUERY</td>\n",
       "      <td>erinx3leannexo</td>\n",
       "      <td>spring break in plain city... it's snowing</td>\n",
       "    </tr>\n",
       "  </tbody>\n",
       "</table>\n",
       "</div>"
      ],
      "text/plain": [
       "   Polarity    Tweet_ID                          Date     Query  \\\n",
       "0         0  1467810672  Mon Apr 06 22:19:49 PDT 2009  NO_QUERY   \n",
       "1         0  1467810917  Mon Apr 06 22:19:53 PDT 2009  NO_QUERY   \n",
       "2         0  1467811184  Mon Apr 06 22:19:57 PDT 2009  NO_QUERY   \n",
       "3         0  1467811193  Mon Apr 06 22:19:57 PDT 2009  NO_QUERY   \n",
       "4         0  1467811372  Mon Apr 06 22:20:00 PDT 2009  NO_QUERY   \n",
       "5         0  1467811592  Mon Apr 06 22:20:03 PDT 2009  NO_QUERY   \n",
       "6         0  1467811594  Mon Apr 06 22:20:03 PDT 2009  NO_QUERY   \n",
       "7         0  1467811795  Mon Apr 06 22:20:05 PDT 2009  NO_QUERY   \n",
       "8         0  1467812025  Mon Apr 06 22:20:09 PDT 2009  NO_QUERY   \n",
       "9         0  1467812416  Mon Apr 06 22:20:16 PDT 2009  NO_QUERY   \n",
       "\n",
       "         User_name                                              Tweet  \n",
       "0    scotthamilton  is upset that he can't update his Facebook by ...  \n",
       "1         mattycus   I dived many times for the ball. Managed to s...  \n",
       "2          ElleCTF    my whole body feels itchy and like its on fire   \n",
       "3           Karoli   no, it's not behaving at all. i'm mad. why am...  \n",
       "4         joy_wolf                                not the whole crew   \n",
       "5          mybirch                                        Need a hug   \n",
       "6             coZZ   hey  long time no see! Yes.. Rains a bit ,onl...  \n",
       "7  2Hood4Hollywood                       _K nope they didn't have it   \n",
       "8          mimismo                                    que me muera ?   \n",
       "9   erinx3leannexo        spring break in plain city... it's snowing   "
      ]
     },
     "metadata": {},
     "execution_count": 5
    }
   ],
   "metadata": {
    "collapsed": true
   }
  },
  {
   "cell_type": "markdown",
   "source": [
    "<a id='eda'></a>\r\n",
    "## Exploratory Data Analysis\r\n"
   ],
   "metadata": {}
  },
  {
   "cell_type": "code",
   "execution_count": 6,
   "source": [
    "plt.hist(tweets['Polarity'])\r\n",
    "plt.xlabel('polarity')\r\n",
    "plt.ylabel('Count')\r\n",
    "plt.show()"
   ],
   "outputs": [
    {
     "output_type": "display_data",
     "data": {
      "image/png": "[encoded data removed]",
      "text/plain": [
       "<Figure size 432x288 with 1 Axes>"
      ]
     },
     "metadata": {
      "needs_background": "light"
     }
    }
   ],
   "metadata": {
    "collapsed": true
   }
  },
  {
   "cell_type": "markdown",
   "source": [
    "### Apparently the tweets in the dataset are either classefied as positive or negative and there is no neutral (Biased Dataset). Let's make sure of that by a simple query :) "
   ],
   "metadata": {}
  },
  {
   "cell_type": "code",
   "execution_count": 7,
   "source": [
    "tweets[tweets['Polarity'] == 2].shape[0]"
   ],
   "outputs": [
    {
     "output_type": "execute_result",
     "data": {
      "text/plain": [
       "0"
      ]
     },
     "metadata": {},
     "execution_count": 7
    }
   ],
   "metadata": {}
  },
  {
   "cell_type": "code",
   "execution_count": 11,
   "source": [
    "# For Scraping Twitter\r\n",
    "def authentication():\r\n",
    "\r\n",
    "    log = pd.read_csv('my keys.csv')\r\n",
    "    consumer_key = log['Value'][0]\r\n",
    "    consumer_secret = log['Value'][1]\r\n",
    "    access_token = log['Value'][2]\r\n",
    "    access_token_secret = log['Value'][3]\r\n",
    "\r\n",
    "    autheticate = tweepy.OAuthHandler(consumer_key, consumer_secret)\r\n",
    "    autheticate.set_access_token(access_token, access_token_secret)\r\n",
    "    api = tweepy.API(autheticate, wait_on_rate_limit= True)\r\n",
    "    return api\r\n",
    "\r\n",
    "authentication()\r\n",
    "search_words = '#RobertDeNiro'\r\n",
    "date_since = '2018-10-1'\r\n",
    "\r\n",
    "#posts = tweepy.Cursor(authentication().search, q = search_words, lang = \"en\", since = date_since).items(1)\r\n",
    "post = authentication().user_timeline(screen_name = 'ElonMusk', count = 1, lang = 'en')"
   ],
   "outputs": [],
   "metadata": {}
  },
  {
   "cell_type": "code",
   "execution_count": 12,
   "source": [
    "# For Sentiment Analysis\r\n",
    "def sentiment_scores(tweet):\r\n",
    "\r\n",
    "    result = ''\r\n",
    "\r\n",
    " \r\n",
    "    # Create a SentimentIntensityAnalyzer object.\r\n",
    "    sid_obj = SentimentIntensityAnalyzer()\r\n",
    " \r\n",
    "    # polarity_scores method of SentimentIntensityAnalyzer\r\n",
    "    # object gives a sentiment dictionary.\r\n",
    "    # which contains pos, neg, neu, and compound scores.\r\n",
    "    sentiment_dict = sid_obj.polarity_scores(tweet)\r\n",
    "    \r\n",
    "    # decide sentiment as positive, negative and neutral\r\n",
    "    if sentiment_dict['compound'] >= 0.05 :\r\n",
    "        result = 'Positive'\r\n",
    " \r\n",
    "    elif sentiment_dict['compound'] <= - 0.05 :\r\n",
    "        result = 'Negative'\r\n",
    " \r\n",
    "    else :\r\n",
    "        result = 'Neutral'\r\n",
    "    \r\n",
    "    return tweet, result\r\n",
    "\r\n",
    "\r\n",
    "sentiment_scores(cleantweets(post[0].text))"
   ],
   "outputs": [
    {
     "output_type": "execute_result",
     "data": {
      "text/plain": [
       "('   🤣', 'Positive')"
      ]
     },
     "metadata": {},
     "execution_count": 12
    }
   ],
   "metadata": {}
  },
  {
   "cell_type": "code",
   "execution_count": 43,
   "source": [
    "posts = authentication().user_timeline(screen_name = 'EmmaWatson', count = 100, lang = 'en')\r\n",
    "\r\n",
    "tweets_dict = {'Positive': [], 'Negative': [], 'Neutral': []}\r\n",
    "\r\n",
    "for i in range(len(posts[0:99])):\r\n",
    "    tweet, sentiment = sentiment_scores(cleantweets(posts[i].text))\r\n",
    "    tweets_dict[sentiment].append(tweet)\r\n"
   ],
   "outputs": [],
   "metadata": {}
  },
  {
   "cell_type": "code",
   "execution_count": 44,
   "source": [
    "tweets_df = pd.DataFrame.from_dict(tweets_dict, orient = 'index')\r\n",
    "tweets_df = tweets_df.transpose()\r\n",
    "tweets_df.head(10)"
   ],
   "outputs": [
    {
     "output_type": "execute_result",
     "data": {
      "text/html": [
       "<div>\n",
       "<style scoped>\n",
       "    .dataframe tbody tr th:only-of-type {\n",
       "        vertical-align: middle;\n",
       "    }\n",
       "\n",
       "    .dataframe tbody tr th {\n",
       "        vertical-align: top;\n",
       "    }\n",
       "\n",
       "    .dataframe thead th {\n",
       "        text-align: right;\n",
       "    }\n",
       "</style>\n",
       "<table border=\"1\" class=\"dataframe\">\n",
       "  <thead>\n",
       "    <tr style=\"text-align: right;\">\n",
       "      <th></th>\n",
       "      <th>Positive</th>\n",
       "      <th>Negative</th>\n",
       "      <th>Neutral</th>\n",
       "    </tr>\n",
       "  </thead>\n",
       "  <tbody>\n",
       "    <tr>\n",
       "      <th>0</th>\n",
       "      <td>I am sending so much love to you, hoping you’r...</td>\n",
       "      <td>: Trans women pose no threat to cis women, but...</td>\n",
       "      <td>In the mean time please assume no news from me...</td>\n",
       "    </tr>\n",
       "    <tr>\n",
       "      <th>1</th>\n",
       "      <td>If I have news - I promise I’ll share it with ...</td>\n",
       "      <td>: \"Prior to the Covid-19 outbreak, as far as d...</td>\n",
       "      <td>Three Lessons From Adrienne Maree Brown's 'Eme...</td>\n",
       "    </tr>\n",
       "    <tr>\n",
       "      <th>2</th>\n",
       "      <td>Dear Fans, \\nRumours about whether I’m engaged...</td>\n",
       "      <td>: ALLFIE outraged as  announces plan to create...</td>\n",
       "      <td>: Watch the new music video for “Brown Skin Gi...</td>\n",
       "    </tr>\n",
       "    <tr>\n",
       "      <th>3</th>\n",
       "      <td>_App: You asked, we listened. Discover ethical...</td>\n",
       "      <td>: We signed this statement with     &amp;amp; othe...</td>\n",
       "      <td>: For just the third time in U.S. history, a w...</td>\n",
       "    </tr>\n",
       "    <tr>\n",
       "      <th>4</th>\n",
       "      <td>: Polish opposition members of parliament coor...</td>\n",
       "      <td>: We are facing the 'decriminalisation of rape...</td>\n",
       "      <td>: Meet some of those calling to PressReset: _P...</td>\n",
       "    </tr>\n",
       "    <tr>\n",
       "      <th>5</th>\n",
       "      <td>: It’s time to PressReset, it’s time to change...</td>\n",
       "      <td>_ayub: 🚨PERSONAL ANNOUNCEMENT🚨\\n\\nIm humbled t...</td>\n",
       "      <td>: I've been plotting alongside Rebecca Solnit,...</td>\n",
       "    </tr>\n",
       "    <tr>\n",
       "      <th>6</th>\n",
       "      <td>: Today, the SistersNotStrangers coalition pub...</td>\n",
       "      <td>_: Today, we're launching our petition demandi...</td>\n",
       "      <td>: I did this interview in response to topping ...</td>\n",
       "    </tr>\n",
       "    <tr>\n",
       "      <th>7</th>\n",
       "      <td>: We are SO excited to announce we are working...</td>\n",
       "      <td>: \"Selective amnesia about their own imperial ...</td>\n",
       "      <td>_: Today, with , we are launching a survey to ...</td>\n",
       "    </tr>\n",
       "    <tr>\n",
       "      <th>8</th>\n",
       "      <td>: Over the past 18 months, FRIDA staff have en...</td>\n",
       "      <td>: Listen to Black ppl &amp;amp; Black Muslims &amp;amp...</td>\n",
       "      <td>: Blown away by the reviews for \\n ⭐️⭐️⭐️⭐️\\n ...</td>\n",
       "    </tr>\n",
       "    <tr>\n",
       "      <th>9</th>\n",
       "      <td>: The DEC is launching an urgent appeal to hel...</td>\n",
       "      <td>: 3/4 TBH365 is aimed at  and builds on decade...</td>\n",
       "      <td>:</td>\n",
       "    </tr>\n",
       "  </tbody>\n",
       "</table>\n",
       "</div>"
      ],
      "text/plain": [
       "                                            Positive  \\\n",
       "0  I am sending so much love to you, hoping you’r...   \n",
       "1  If I have news - I promise I’ll share it with ...   \n",
       "2  Dear Fans, \\nRumours about whether I’m engaged...   \n",
       "3  _App: You asked, we listened. Discover ethical...   \n",
       "4  : Polish opposition members of parliament coor...   \n",
       "5  : It’s time to PressReset, it’s time to change...   \n",
       "6  : Today, the SistersNotStrangers coalition pub...   \n",
       "7  : We are SO excited to announce we are working...   \n",
       "8  : Over the past 18 months, FRIDA staff have en...   \n",
       "9  : The DEC is launching an urgent appeal to hel...   \n",
       "\n",
       "                                            Negative  \\\n",
       "0  : Trans women pose no threat to cis women, but...   \n",
       "1  : \"Prior to the Covid-19 outbreak, as far as d...   \n",
       "2  : ALLFIE outraged as  announces plan to create...   \n",
       "3  : We signed this statement with     &amp; othe...   \n",
       "4  : We are facing the 'decriminalisation of rape...   \n",
       "5  _ayub: 🚨PERSONAL ANNOUNCEMENT🚨\\n\\nIm humbled t...   \n",
       "6  _: Today, we're launching our petition demandi...   \n",
       "7  : \"Selective amnesia about their own imperial ...   \n",
       "8  : Listen to Black ppl &amp; Black Muslims &amp...   \n",
       "9  : 3/4 TBH365 is aimed at  and builds on decade...   \n",
       "\n",
       "                                             Neutral  \n",
       "0  In the mean time please assume no news from me...  \n",
       "1  Three Lessons From Adrienne Maree Brown's 'Eme...  \n",
       "2  : Watch the new music video for “Brown Skin Gi...  \n",
       "3  : For just the third time in U.S. history, a w...  \n",
       "4  : Meet some of those calling to PressReset: _P...  \n",
       "5  : I've been plotting alongside Rebecca Solnit,...  \n",
       "6  : I did this interview in response to topping ...  \n",
       "7  _: Today, with , we are launching a survey to ...  \n",
       "8  : Blown away by the reviews for \\n ⭐️⭐️⭐️⭐️\\n ...  \n",
       "9                                                :    "
      ]
     },
     "metadata": {},
     "execution_count": 44
    }
   ],
   "metadata": {}
  },
  {
   "cell_type": "code",
   "execution_count": 45,
   "source": [
    "tweets_df.info()"
   ],
   "outputs": [
    {
     "output_type": "stream",
     "name": "stdout",
     "text": [
      "<class 'pandas.core.frame.DataFrame'>\n",
      "RangeIndex: 45 entries, 0 to 44\n",
      "Data columns (total 3 columns):\n",
      " #   Column    Non-Null Count  Dtype \n",
      "---  ------    --------------  ----- \n",
      " 0   Positive  45 non-null     object\n",
      " 1   Negative  26 non-null     object\n",
      " 2   Neutral   28 non-null     object\n",
      "dtypes: object(3)\n",
      "memory usage: 604.0+ bytes\n"
     ]
    }
   ],
   "metadata": {}
  },
  {
   "cell_type": "code",
   "execution_count": 35,
   "source": [
    "tweets_main_df = pd.DataFrame()"
   ],
   "outputs": [],
   "metadata": {}
  },
  {
   "cell_type": "code",
   "execution_count": 46,
   "source": [
    "tweets_main_df = tweets_main_df.append(tweets_df, ignore_index = True)"
   ],
   "outputs": [],
   "metadata": {}
  },
  {
   "cell_type": "code",
   "execution_count": 47,
   "source": [
    "tweets_main_df.info()"
   ],
   "outputs": [
    {
     "output_type": "stream",
     "name": "stdout",
     "text": [
      "<class 'pandas.core.frame.DataFrame'>\n",
      "RangeIndex: 111 entries, 0 to 110\n",
      "Data columns (total 3 columns):\n",
      " #   Column    Non-Null Count  Dtype \n",
      "---  ------    --------------  ----- \n",
      " 0   Positive  105 non-null    object\n",
      " 1   Negative  41 non-null     object\n",
      " 2   Neutral   81 non-null     object\n",
      "dtypes: object(3)\n",
      "memory usage: 1.4+ KB\n"
     ]
    }
   ],
   "metadata": {}
  }
 ],
 "metadata": {
  "kernelspec": {
   "name": "python3",
   "display_name": "Python 3.8.4 32-bit"
  },
  "language_info": {
   "codemirror_mode": {
    "name": "ipython",
    "version": 3
   },
   "file_extension": ".py",
   "mimetype": "text/x-python",
   "name": "python",
   "nbconvert_exporter": "python",
   "pygments_lexer": "ipython3",
   "version": "3.8.4"
  },
  "interpreter": {
   "hash": "5f6227dd9e9e868107fb3c1114210844412e6c15a282b810619744ffd1febba0"
  }
 },
 "nbformat": 4,
 "nbformat_minor": 2
}